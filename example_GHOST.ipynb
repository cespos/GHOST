{
 "cells": [
  {
   "cell_type": "markdown",
   "metadata": {},
   "source": [
    "**Function to optimize the decision threshold using the prediction probabilities of N training subsets**"
   ]
  },
  {
   "cell_type": "code",
   "execution_count": 1,
   "metadata": {},
   "outputs": [],
   "source": [
    "import pandas as pd\n",
    "from collections import defaultdict\n",
    "\n",
    "\n",
    "def optimize_threshold_train_subset(cls, fps_train, labels_train, thresholds, \n",
    "                                    ThOpt_metrics = 'Kappa', N_subsets = 100, \n",
    "                                    subsets_size = 0.2, with_replacement = False, random_seed = None):\n",
    "\n",
    "    \"\"\"Optimize the decision threshold based on subsets of the training set.\n",
    "    The threshold that maximizes the Cohen's kappa coefficient or a ROC-based criterion \n",
    "    on the training subsets is chosen as optimal.\n",
    "    \n",
    "    Parameters\n",
    "    ----------\n",
    "    cls : obj\n",
    "        Trained machine learning classifier built using scikit-learn\n",
    "    fps_train: list \n",
    "        Molecular descriptors for the training set\n",
    "    labels_train: list of int\n",
    "        True labels for the training set\n",
    "    thresholds: list of floats\n",
    "        List of decision thresholds to screen for classification\n",
    "    ThOpt_metrics: str\n",
    "        Optimization metric. Choose between \"Kappa\" and \"ROC\"\n",
    "    N_subsets: int\n",
    "        Number of training subsets to use in the optimization\n",
    "    subsets_size: float or int\n",
    "        Size of the subsets. if float, represents the proportion of the dataset to include in the subsets. \n",
    "        If integer, it represents the actual number of instances to include in the subsets. \n",
    "    with_replacement: bool\n",
    "        The subsets are drawn randomly. True to draw the subsets with replacement\n",
    "    random_seed: int    \n",
    "        random number to seed the drawing of the subsets\n",
    "    \n",
    "    Returns\n",
    "    ----------\n",
    "    thresh: float\n",
    "        Optimal decision threshold for classification\n",
    "    \"\"\"\n",
    "    \n",
    "    # seeding\n",
    "    np.random.seed(random_seed)\n",
    "    random_seeds = np.random.randint(N_subsets*10, size=N_subsets)  \n",
    "    \n",
    "    def helper_calc_median_std(specificity):\n",
    "        # Calculate median and std of the columns of a pandas dataframe\n",
    "        arr = np.array(specificity)\n",
    "        y_values_median = np.median(arr,axis=0)\n",
    "        y_values_std = np.std(arr,axis=0)\n",
    "        return y_values_median, y_values_std    \n",
    "\n",
    "    # calculate prediction probability for the training set\n",
    "    probs_train = cls.predict_proba(fps_train)[:,1]\n",
    "    labels_train_thresh = {'labels': labels_train}\n",
    "    labels_train_thresh.update({'probs': probs_train})\n",
    "    # recalculate the predictions for the training set using different thresholds and\n",
    "    # store the predictions in a dataframe\n",
    "    for thresh in thresholds:\n",
    "        labels_train_thresh.update({str(thresh): [1 if x >= thresh else 0 for x in probs_train]})\n",
    "    df_preds = pd.DataFrame(labels_train_thresh)\n",
    "    # Optmize the decision threshold based on the Cohen's Kappa coefficient\n",
    "    if ThOpt_metrics == 'Kappa':\n",
    "        # pick N_subsets training subsets and determine the threshold that provides the highest kappa on each \n",
    "        # of the subsets\n",
    "        kappa_accum = []\n",
    "        for i in range(N_subsets):\n",
    "            if with_replacement:\n",
    "                if isinstance(subsets_size, float):\n",
    "                    Nsamples = int(df_preds.shape[0]*subsets_size)\n",
    "                elif isinstance(subsets_size, int):\n",
    "                    Nsamples = subsets_size                    \n",
    "                df_subset = resample(df_preds, n_samples = Nsamples, stratify=list(df_preds.labels), random_state = random_seeds[i])\n",
    "                labels_subset = df_subset['labels']\n",
    "            else:\n",
    "                df_tmp, df_subset, labels_tmp, labels_subset = train_test_split(df_preds, labels_train, test_size = subsets_size, stratify = labels_train, random_state = random_seeds[i])\n",
    "            probs_subset = list(df_subset['probs'])\n",
    "            thresh_names = [x for x in df_preds.columns if (x != 'labels' and x != 'probs')]\n",
    "            kappa_train_subset = []\n",
    "            for col1 in thresh_names:\n",
    "                kappa_train_subset.append(metrics.cohen_kappa_score(labels_subset, list(df_subset[col1])))\n",
    "            kappa_accum.append(kappa_train_subset)\n",
    "        # determine the threshold that provides the best results on the training subsets\n",
    "        y_values_median, y_values_std = helper_calc_median_std(kappa_accum)\n",
    "        opt_thresh = thresholds[np.argmax(y_values_median)]\n",
    "    # Optmize the decision threshold based on the ROC-curve, as described here https://doi.org/10.1007/s11548-013-0913-8\n",
    "    elif ThOpt_metrics == 'ROC':\n",
    "        sensitivity_accum = []\n",
    "        specificity_accum = []\n",
    "        # Calculate sensitivity and specificity for a range of thresholds and N_subsets\n",
    "        for i in range(N_subsets):\n",
    "            if with_replacement:\n",
    "                if isinstance(subsets_size, float):\n",
    "                    Nsamples = int(df_preds.shape[0]*subsets_size)\n",
    "                elif isinstance(subsets_size, int):\n",
    "                    Nsamples = subsets_size                    \n",
    "                df_subset = resample(df_preds, n_samples = Nsamples, stratify=list(df_preds.labels), random_state = random_seeds[i])\n",
    "                labels_subset = list(df_subset['labels'])\n",
    "            else:\n",
    "                df_tmp, df_subset, labels_tmp, labels_subset = train_test_split(df_preds, labels_train, test_size = subsets_size, stratify = labels_train, random_state = random_seeds[i])\n",
    "            probs_subset = list(df_subset['probs'])\n",
    "            sensitivity = []\n",
    "            specificity = []\n",
    "            for thresh in thresholds:\n",
    "                scores = [1 if x >= thresh else 0 for x in probs_subset]\n",
    "                tn, fp, fn, tp = metrics.confusion_matrix(labels_subset, scores, labels=list(set(labels_train))).ravel()\n",
    "                sensitivity.append(tp/(tp+fn))\n",
    "                specificity.append(tn/(tn+fp))\n",
    "            sensitivity_accum.append(sensitivity)\n",
    "            specificity_accum.append(specificity)\n",
    "        # determine the threshold that provides the best results on the training subsets\n",
    "        median_sensitivity, std_sensitivity = helper_calc_median_std(sensitivity_accum)\n",
    "        median_specificity, std_specificity = helper_calc_median_std(specificity_accum)\n",
    "        roc_dist_01corner = (2*median_sensitivity*median_specificity)/(median_sensitivity+median_specificity)\n",
    "        opt_thresh = thresholds[np.argmax(roc_dist_01corner)]\n",
    "    return opt_thresh\n",
    "\n",
    "\n",
    "\n",
    "\n",
    "\n",
    "\n"
   ]
  },
  {
   "cell_type": "markdown",
   "metadata": {},
   "source": [
    "**Function to calculate classification metrics**"
   ]
  },
  {
   "cell_type": "code",
   "execution_count": 2,
   "metadata": {},
   "outputs": [],
   "source": [
    "from sklearn import metrics\n",
    "import numpy as np\n",
    "\n",
    "def calc_metrics(labels_test, test_probs, threshold = 0.5):\n",
    "    scores = [1 if x>=threshold else 0 for x in test_probs]\n",
    "    auc = metrics.roc_auc_score(labels_test, test_probs)\n",
    "    kappa = metrics.cohen_kappa_score(labels_test,scores)\n",
    "    confusion = metrics.confusion_matrix(labels_test,scores, labels=list(set(labels_test)))\n",
    "    print('thresh: %.2f, kappa: %.3f, AUC test-set: %.3f'%(threshold, kappa, auc))\n",
    "    print(confusion)\n",
    "    print(metrics.classification_report(labels_test,scores))\n",
    "    return "
   ]
  },
  {
   "cell_type": "markdown",
   "metadata": {},
   "source": [
    "**Example**"
   ]
  },
  {
   "cell_type": "code",
   "execution_count": 3,
   "metadata": {},
   "outputs": [
    {
     "name": "stdout",
     "output_type": "stream",
     "text": [
      "thresh: 0.50, kappa: 0.147, AUC test-set: 0.832\n",
      "[[159   0]\n",
      " [ 37   4]]\n",
      "              precision    recall  f1-score   support\n",
      "\n",
      "           0       0.81      1.00      0.90       159\n",
      "           1       1.00      0.10      0.18        41\n",
      "\n",
      "    accuracy                           0.81       200\n",
      "   macro avg       0.91      0.55      0.54       200\n",
      "weighted avg       0.85      0.81      0.75       200\n",
      "\n"
     ]
    }
   ],
   "source": [
    "from sklearn.ensemble import RandomForestClassifier\n",
    "from sklearn.datasets import make_classification\n",
    "from sklearn.model_selection import train_test_split\n",
    "\n",
    "# Generate a binary imbalanced classification problem, with 80% zeros and 20% ones.\n",
    "X, y = make_classification(n_samples=1000, n_features=20,\n",
    "                           n_informative=14, n_redundant=0,\n",
    "                           random_state=0, shuffle=False, weights = [0.8, 0.2])\n",
    "\n",
    "# Train - test split\n",
    "X_train, X_test, y_train, y_test = train_test_split(X, y, test_size = 0.2, stratify = y, random_state=0)\n",
    "\n",
    "# Train a RF classifier\n",
    "cls = RandomForestClassifier(max_depth=6, oob_score=True)\n",
    "cls.fit(X_train, y_train)\n",
    "\n",
    "# Get prediction probabilities for the test set\n",
    "test_probs = cls.predict_proba(X_test)[:,1] \n",
    "\n",
    "# Print confusion matrix and classification metrics\n",
    "calc_metrics(y_test, test_probs, threshold = 0.5)"
   ]
  },
  {
   "cell_type": "markdown",
   "metadata": {},
   "source": [
    "**Optimize the decision threshold:**"
   ]
  },
  {
   "cell_type": "markdown",
   "metadata": {},
   "source": [
    "Use the Cohen's Kappa as optimization metric:"
   ]
  },
  {
   "cell_type": "code",
   "execution_count": 4,
   "metadata": {},
   "outputs": [
    {
     "name": "stdout",
     "output_type": "stream",
     "text": [
      "thresh: 0.30, kappa: 0.537, AUC test-set: 0.832\n",
      "[[149  10]\n",
      " [ 18  23]]\n",
      "              precision    recall  f1-score   support\n",
      "\n",
      "           0       0.89      0.94      0.91       159\n",
      "           1       0.70      0.56      0.62        41\n",
      "\n",
      "    accuracy                           0.86       200\n",
      "   macro avg       0.79      0.75      0.77       200\n",
      "weighted avg       0.85      0.86      0.85       200\n",
      "\n"
     ]
    }
   ],
   "source": [
    "# optmize the threshold \n",
    "thresholds = np.round(np.arange(0.05,0.55,0.05),2)\n",
    "opt_threshold = optimize_threshold_train_subset(cls, X_train, y_train, thresholds, \n",
    "                                    ThOpt_metrics = 'Kappa', with_replacement = False, N_subsets = 100, \n",
    "                                    subsets_size = 0.2)\n",
    "\n",
    "# Print confusion matrix and classification metrics\n",
    "calc_metrics(y_test, test_probs, threshold = opt_threshold)"
   ]
  },
  {
   "cell_type": "code",
   "execution_count": null,
   "metadata": {},
   "outputs": [],
   "source": []
  }
 ],
 "metadata": {
  "kernelspec": {
   "display_name": "Python 3",
   "language": "python",
   "name": "python3"
  },
  "language_info": {
   "codemirror_mode": {
    "name": "ipython",
    "version": 3
   },
   "file_extension": ".py",
   "mimetype": "text/x-python",
   "name": "python",
   "nbconvert_exporter": "python",
   "pygments_lexer": "ipython3",
   "version": "3.6.8"
  }
 },
 "nbformat": 4,
 "nbformat_minor": 4
}
